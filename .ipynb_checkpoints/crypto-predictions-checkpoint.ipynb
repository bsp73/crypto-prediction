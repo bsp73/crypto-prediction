{
 "cells": [
  {
   "cell_type": "markdown",
   "id": "168a0049",
   "metadata": {},
   "source": [
    "see how many times each comment was more toxic than another and less toxic than another and divide by total number of comments it was compared to\n",
    "\n",
    "each ith feature is the ith word in the comment encoded as a number (0 for none)\n",
    "\n",
    "also features for counts of each word\n",
    "\n",
    "also look for common two-word, three-word, and 4-word combinations and add columns for those\n",
    "\n",
    "\n",
    "to find out what words mean what, make visualizations of the number of occurances of words in comments that are considered more toxic vs less toxic"
   ]
  },
  {
   "cell_type": "code",
   "execution_count": null,
   "id": "e5640793",
   "metadata": {},
   "outputs": [],
   "source": [
    "import numpy as np\n",
    "import pandas as pd"
   ]
  },
  {
   "cell_type": "code",
   "execution_count": null,
   "id": "f3fa6160",
   "metadata": {},
   "outputs": [],
   "source": [
    "ranked = pd.read_csv('validation_data.csv')"
   ]
  },
  {
   "cell_type": "code",
   "execution_count": null,
   "id": "68d2b1f6",
   "metadata": {},
   "outputs": [],
   "source": [
    "ranked"
   ]
  },
  {
   "cell_type": "code",
   "execution_count": null,
   "id": "9caaa63f",
   "metadata": {},
   "outputs": [],
   "source": [
    "np.sum(ranked['less_toxic'].unique())"
   ]
  },
  {
   "cell_type": "code",
   "execution_count": null,
   "id": "fcec16c8",
   "metadata": {},
   "outputs": [],
   "source": []
  }
 ],
 "metadata": {
  "kernelspec": {
   "display_name": "Python 3",
   "language": "python",
   "name": "python3"
  },
  "language_info": {
   "codemirror_mode": {
    "name": "ipython",
    "version": 3
   },
   "file_extension": ".py",
   "mimetype": "text/x-python",
   "name": "python",
   "nbconvert_exporter": "python",
   "pygments_lexer": "ipython3",
   "version": "3.8.8"
  }
 },
 "nbformat": 4,
 "nbformat_minor": 5
}
